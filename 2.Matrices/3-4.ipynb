{
 "cells": [
  {
   "cell_type": "markdown",
   "id": "e3888daf",
   "metadata": {},
   "source": [
    "__3.1.__ Установить, какие произведения матриц  AB  и  BA  определены, и найти размерности полученных матриц:"
   ]
  },
  {
   "cell_type": "markdown",
   "id": "52beb07c",
   "metadata": {},
   "source": [
    "а) A  — матрица  4×2 ,  B  — матрица  4×2 ;\n",
    "AB и BA не определены, т.к. количество строк матрицы A не совпадает с количеством столбцов матрицы B и наоборот."
   ]
  },
  {
   "cell_type": "markdown",
   "id": "1c556a94",
   "metadata": {},
   "source": [
    "б) A  — матрица  2×5 ,  B  — матрица  5×3 ;\n",
    "AB определено, размерность получившейся матрицы 2×3.\n",
    "BA не определено, т.к. количество строк матрицы B не совпадает с количеством столбцов матрицы A."
   ]
  },
  {
   "cell_type": "markdown",
   "id": "b0281b50",
   "metadata": {},
   "source": [
    "в)  A  — матрица  8×3 ,  B  — матрица  3×8 ;\n",
    "Оба произведения определены, размерности:\n",
    "    АВ: 8х8\n",
    "    ВА: 3х3"
   ]
  },
  {
   "cell_type": "markdown",
   "id": "fe0df4c0",
   "metadata": {},
   "source": [
    "г)  A  — квадратная матрица  4×4 ,  B  — квадратная матрица  4×4 .\n",
    "Оба произведения определены, размерности обоих 4х4"
   ]
  },
  {
   "cell_type": "markdown",
   "id": "145c8f72",
   "metadata": {},
   "source": [
    "__3.2.__ Найти сумму и произведение матриц $A=\\begin{pmatrix}\n",
    "1 & -2\\\\ \n",
    "3 & 0\n",
    "\\end{pmatrix}$ и $B=\\begin{pmatrix}\n",
    "4 & -1\\\\ \n",
    "0 & 5\n",
    "\\end{pmatrix}.$"
   ]
  },
  {
   "cell_type": "markdown",
   "id": "c61b7807",
   "metadata": {},
   "source": [
    "$$\\begin{pmatrix}\n",
    "1 & -2\\\\ \n",
    "3 & 0\n",
    "\\end{pmatrix} + \\begin{pmatrix}\n",
    "4 & -1\\\\ \n",
    "0 & 5\n",
    "\\end{pmatrix} = \n",
    "\\begin{pmatrix}\n",
    "5 & -3\\\\ \n",
    "3 & 5\n",
    "\\end{pmatrix}.\n",
    "$$"
   ]
  },
  {
   "cell_type": "markdown",
   "id": "aef04569",
   "metadata": {},
   "source": [
    "$$ A\\cdot B =\n",
    "\\begin{pmatrix}\n",
    "1 & -2\\\\ \n",
    "3 & 0\n",
    "\\end{pmatrix} \\cdot\n",
    "\\begin{pmatrix}\n",
    "4 & -1\\\\ \n",
    "0 & 5\n",
    "\\end{pmatrix} = \n",
    "\\begin{pmatrix}\n",
    "1\\cdot 4 + (-2)\\cdot 0 & 1\\cdot (-1) + (-2)\\cdot 5\\\\ \n",
    "3\\cdot 4 + 0\\cdot 0 & 3\\cdot (-1) + 0\\cdot 5\n",
    "\\end{pmatrix} = \n",
    "\\begin{pmatrix}\n",
    "4 & -11\\\\ \n",
    "12 & -3\n",
    "\\end{pmatrix}.\n",
    "$$"
   ]
  },
  {
   "cell_type": "markdown",
   "id": "fb4bc0c8",
   "metadata": {},
   "source": [
    "$$ B\\cdot A =\n",
    "\\begin{pmatrix}\n",
    "4 & -1\\\\ \n",
    "0 & 5\n",
    "\\end{pmatrix} \\cdot\n",
    "\\begin{pmatrix}\n",
    "1 & -2\\\\ \n",
    "3 & 0\n",
    "\\end{pmatrix} = \n",
    "\\begin{pmatrix}\n",
    "4\\cdot 1 + (-1)\\cdot 3 & 4\\cdot (-2) + (-1)\\cdot 0\\\\ \n",
    "0\\cdot 1 + 5\\cdot 3 & 0\\cdot (-2) + 5\\cdot 0\n",
    "\\end{pmatrix} = \n",
    "\\begin{pmatrix}\n",
    "1 & -8\\\\ \n",
    "15 & 0\n",
    "\\end{pmatrix}.\n",
    "$$"
   ]
  },
  {
   "cell_type": "code",
   "execution_count": 76,
   "id": "f840105b",
   "metadata": {},
   "outputs": [],
   "source": [
    "import numpy as np"
   ]
  },
  {
   "cell_type": "code",
   "execution_count": 77,
   "id": "fef48366",
   "metadata": {
    "scrolled": true
   },
   "outputs": [
    {
     "name": "stdout",
     "output_type": "stream",
     "text": [
      "Матрица A\n",
      "[[ 1 -2]\n",
      " [ 3  0]]\n",
      "Матрица B\n",
      "[[ 4 -1]\n",
      " [ 0  5]]\n",
      "Матрица AB\n",
      "[[  4 -11]\n",
      " [ 12  -3]]\n",
      "Матрица BA\n",
      "[[ 1 -8]\n",
      " [15  0]]\n"
     ]
    }
   ],
   "source": [
    "A = np.array([[1, -2], [3, 0]])\n",
    "B = np.array([[4, -1], [0, 5]])\n",
    "\n",
    "print(f'Матрица A\\n{A}')\n",
    "print(f'Матрица B\\n{B}')\n",
    "print(f'Матрица AB\\n{np.dot(A, B)}')\n",
    "print(f'Матрица BA\\n{np.dot(B, A)}')"
   ]
  },
  {
   "cell_type": "markdown",
   "id": "22ac04f3",
   "metadata": {},
   "source": [
    "__3.3.__ Из закономерностей сложения и умножения матриц на число можно сделать вывод, что матрицы одного размера образуют линейное пространство. Вычислить линейную комбинацию $3A-2B+4C$ для матриц $A=\\begin{pmatrix}\n",
    "1 & 7\\\\ \n",
    "3 & -6\n",
    "\\end{pmatrix}$, $B=\\begin{pmatrix}\n",
    "0 & 5\\\\ \n",
    "2 & -1\n",
    "\\end{pmatrix}$, $C=\\begin{pmatrix}\n",
    "2 & -4\\\\ \n",
    "1 & 1\n",
    "\\end{pmatrix}.$"
   ]
  },
  {
   "cell_type": "markdown",
   "id": "7f377bbf",
   "metadata": {},
   "source": [
    "$$\n",
    "3A-2B+4C = \n",
    "3 \\cdot \\begin{pmatrix}\n",
    "1 & 7\\\\ \n",
    "3 & -6\n",
    "\\end{pmatrix} - 2 \\cdot \\begin{pmatrix}\n",
    "0 & 5\\\\ \n",
    "2 & -1\n",
    "\\end{pmatrix} + 4 \\cdot \\begin{pmatrix}\n",
    "2 & -4\\\\ \n",
    "1 & 1\n",
    "\\end{pmatrix} =\n",
    "\\begin{pmatrix}\n",
    "3 & 21\\\\ \n",
    "9 & -18\n",
    "\\end{pmatrix} - \\begin{pmatrix}\n",
    "0 & 10\\\\ \n",
    "4 & -2\n",
    "\\end{pmatrix} + \\begin{pmatrix}\n",
    "8 & -16\\\\ \n",
    "4 & 4\n",
    "\\end{pmatrix} =\n",
    "\\begin{pmatrix}\n",
    "11 & 15\\\\ \n",
    "9 & -16\n",
    "\\end{pmatrix}\n",
    "$$"
   ]
  },
  {
   "cell_type": "markdown",
   "id": "826f69a3",
   "metadata": {},
   "source": [
    "__3.4.__ Дана матрица $A=\\begin{pmatrix}\n",
    "4 & 1\\\\ \n",
    "5 & -2\\\\ \n",
    "2 & 3\n",
    "\\end{pmatrix}$.\n",
    "Вычислить $AA^{T}$ и $A^{T}A$."
   ]
  },
  {
   "cell_type": "markdown",
   "id": "97e036c1",
   "metadata": {},
   "source": [
    "$A^{T}=\\begin{pmatrix}\n",
    "4 & 5 & 2\\\\ \n",
    "1 & -2 & 3\n",
    "\\end{pmatrix}$.\n",
    "\n",
    "$$A\\cdot A^{T}=\\begin{pmatrix}\n",
    "4\\cdot4+1\\cdot1 & 4\\cdot5+1\\cdot(-2) & 4\\cdot2+1\\cdot3\\\\ \n",
    "5\\cdot4+(-2)\\cdot1 & 5\\cdot5+(-2)\\cdot(-2) & 5\\cdot2+(-2)\\cdot3\\\\ \n",
    "2\\cdot4+3\\cdot1 & 2\\cdot5+3\\cdot(-2) & 2\\cdot2+3\\cdot3\n",
    "\\end{pmatrix}=\\begin{pmatrix}\n",
    "17 & 18 & 11\\\\ \n",
    "18 & 29 & 4\\\\ \n",
    "11 & 4 & 13\n",
    "\\end{pmatrix}.$$\n",
    "\n",
    "$$A^{T}\\cdot A=\\begin{pmatrix}\n",
    "4\\cdot4+5\\cdot5+2\\cdot2 & 4\\cdot1+5\\cdot(-2)+2\\cdot3\\\\ \n",
    "1\\cdot4+(-2)\\cdot5+3\\cdot2 & 1\\cdot1+(-2)\\cdot(-2)+3\\cdot3\n",
    "\\end{pmatrix}=\\begin{pmatrix}\n",
    "45 & 0\\\\ \n",
    "0 & 14\n",
    "\\end{pmatrix}.$$"
   ]
  },
  {
   "cell_type": "code",
   "execution_count": 78,
   "id": "4725055e",
   "metadata": {},
   "outputs": [
    {
     "name": "stdout",
     "output_type": "stream",
     "text": [
      "Матрица:\n",
      "[[ 4  1]\n",
      " [ 5 -2]\n",
      " [ 2  3]]\n",
      "\n",
      "Транспонированная матрица:\n",
      "[[ 4  5  2]\n",
      " [ 1 -2  3]]\n",
      "\n",
      "A*(A^T):\n",
      "[[17 18 11]\n",
      " [18 29  4]\n",
      " [11  4 13]]\n",
      "\n",
      "(A^T)*A:\n",
      "[[45  0]\n",
      " [ 0 14]]\n"
     ]
    }
   ],
   "source": [
    "a = np.array([[4, 1], [5, -2], [2, 3]])\n",
    "\n",
    "print(f'Матрица:\\n{a}\\n')\n",
    "print(f'Транспонированная матрица:\\n{a.T}\\n')\n",
    "print(f'A*(A^T):\\n{a @ a.T}\\n')\n",
    "print(f'(A^T)*A:\\n{a.T @ a}')"
   ]
  },
  {
   "cell_type": "markdown",
   "id": "a74c416d",
   "metadata": {},
   "source": [
    "__3.5*.__ Написать на Python функцию для перемножения двух произвольных матриц, не используя NumPy."
   ]
  },
  {
   "cell_type": "code",
   "execution_count": 79,
   "id": "4184818d",
   "metadata": {},
   "outputs": [
    {
     "name": "stdout",
     "output_type": "stream",
     "text": [
      "A = [[1, 0], [2, 1], [10, 5]]\n",
      "B = [[2, 0, 0], [0, 0, 1]]\n",
      "Результат произведения матриц [[2, 0, 0], [4, 0, 1], [20, 0, 5]]\n"
     ]
    }
   ],
   "source": [
    "A = [[1, 0], [2, 1], [10, 5]]\n",
    "B = [[2, 0, 0], [0, 0, 1]]\n",
    "\n",
    "def matrix_prod(A,B):\n",
    "    \n",
    "    if len(A)==len(B[0]):\n",
    "        result = []\n",
    "        for i in range(len(A)):\n",
    "            row = []\n",
    "            for j in range(len(A)):\n",
    "                count = 0\n",
    "                for k in range(len(B)):\n",
    "                    count += A[i][k]*B[k][j]\n",
    "                row.append(count)\n",
    "            result.append(row)\n",
    "        print(f'{A = }\\n{B = }')\n",
    "        print(f'Результат произведения матриц {result}')\n",
    "    else:\n",
    "        print('Неправильные данные')\n",
    "        \n",
    "matrix_prod(A, B)\n"
   ]
  },
  {
   "cell_type": "markdown",
   "id": "1a9d66b3",
   "metadata": {},
   "source": [
    "__4.1.__ Вычислить определитель:\n",
    "\n",
    "   a)\n",
    "$$\\begin{vmatrix}\n",
    "sinx & -cosx\\\\ \n",
    "cosx & sinx\n",
    "\\end{vmatrix}=sinx \\cdot sinx - cosx \\cdot (-cosx) = 1.$$"
   ]
  },
  {
   "cell_type": "markdown",
   "id": "ab3f34af",
   "metadata": {},
   "source": [
    "   б)\n",
    "    \n",
    "$$\\begin{vmatrix}\n",
    "4 & 2 & 3\\\\ \n",
    "0 & 5 & 1\\\\ \n",
    "0 & 0 & 9\n",
    "\\end{vmatrix} = \n",
    "4\\cdot5\\cdot9 = 180\n",
    "$$"
   ]
  },
  {
   "cell_type": "code",
   "execution_count": 80,
   "id": "5d66a01e",
   "metadata": {
    "scrolled": true
   },
   "outputs": [
    {
     "name": "stdout",
     "output_type": "stream",
     "text": [
      "Матрица:\n",
      "[[4 2 3]\n",
      " [0 5 1]\n",
      " [0 0 9]]\n",
      "Определитель:\n",
      "180\n"
     ]
    }
   ],
   "source": [
    "a = np.array([[4, 2, 3], [0, 5, 1], [0, 0, 9]])\n",
    "print(f'Матрица:\\n{a}')\n",
    "print(f'Определитель:\\n{np.linalg.det(a):.0f}')"
   ]
  },
  {
   "cell_type": "markdown",
   "id": "62c5dc6a",
   "metadata": {},
   "source": [
    "в)\n",
    "$$\\begin{vmatrix}\n",
    "1 & 2 & 3\\\\ \n",
    "4 & 5 & 6\\\\ \n",
    "7 & 8 & 9\n",
    "\\end{vmatrix}.$$"
   ]
  },
  {
   "cell_type": "code",
   "execution_count": 83,
   "id": "2e1e2869",
   "metadata": {},
   "outputs": [
    {
     "name": "stdout",
     "output_type": "stream",
     "text": [
      "Матрица:\n",
      "[[1 2 3]\n",
      " [4 5 6]\n",
      " [7 8 9]]\n",
      "Определитель:\n",
      "-0\n"
     ]
    }
   ],
   "source": [
    "a = np.array([[1, 2, 3], [4, 5, 6], [7, 8, 9]])\n",
    "print(f'Матрица:\\n{a}')\n",
    "print(f'Определитель:\\n{np.linalg.det(a):.0f}')"
   ]
  },
  {
   "cell_type": "markdown",
   "id": "37007352",
   "metadata": {},
   "source": [
    "__4.2.__ Определитель матрицы $A$ равен $4$. Найти:\n",
    "\n",
    "   а) $det(A^{2})$;\n",
    "   \n",
    "   $det(A^{2}) = det(A \\cdot A) = det(A) \\cdot det(A) = 4 \\cdot 4 = 16$\n",
    "\n",
    "    \n",
    "   б) $det(A^{T})$;\n",
    "   \n",
    "   Определитель транспонированной матрицы равен определителю исходной матрицы.\n",
    "   Следовательно $det(A^{T}) = 4$\n",
    "    \n",
    "   в) $det(2A)$.\n",
    "   \n",
    "   Пусть размер матрицы n строк и n столбцов. Если все элементы матрицы умножить на число 2, то это равносильно каждой строке, умноженной на 2. \n",
    "   \n",
    "   Если одну строку умножить на число, то определитель умножится на это число. Следовательно, определитель умножится на $2^{n}$.\n",
    "   \n",
    "   $det(2A) = 2^{n} \\cdot det(A) = 2^{n} \\cdot 2^{2} = 2^{2 + n}$"
   ]
  },
  {
   "cell_type": "markdown",
   "id": "74f3a965",
   "metadata": {},
   "source": [
    "__4.3.__  Доказать, что матрица\n",
    "\n",
    "$$\\begin{pmatrix}\n",
    "-2 & 7 & -3\\\\ \n",
    "4 & -14 & 6\\\\ \n",
    "-3 & 7 & 13\n",
    "\\end{pmatrix}$$\n",
    "   \n",
    "вырожденная."
   ]
  },
  {
   "cell_type": "markdown",
   "id": "657f4398",
   "metadata": {},
   "source": [
    "Матрица называется сингулярной, или вырожденной, если ее определитель равен нулю.\n",
    "\n",
    "$ \\begin{pmatrix}4 & -14 & 6\\end{pmatrix} = -2 \\cdot \\begin{pmatrix}-2 & 7 & -3\\end{pmatrix}$\n",
    "\n",
    "Если две строки (столбца) матрицы линейно зависимы, то определитель этой матрицы равен нулю."
   ]
  },
  {
   "cell_type": "markdown",
   "id": "0d846981",
   "metadata": {},
   "source": [
    "__4.4.__ Найти ранг матрицы:\n",
    "\n",
    "   а) $\\begin{pmatrix}\n",
    "1 & 2 & 3\\\\ \n",
    "1 & 1 & 1\\\\ \n",
    "2 & 3 & 4\n",
    "\\end{pmatrix};$\n",
    "\n",
    "Третья строка является суммой первой и второй строк, а значит, ее можно отбросить\n",
    "$\\begin{pmatrix}\n",
    "1 & 2 & 3\\\\ \n",
    "1 & 1 & 1\n",
    "\\end{pmatrix};$\n",
    "\n",
    "Вычтем из первой строки вторую, и поменяем их местами:\n",
    "$\\begin{pmatrix}\n",
    "1 & 1 & 1\\\\\n",
    "0 & 1 & 2\n",
    "\\end{pmatrix};$\n",
    "\n",
    "Таким образом, ранг матрицы равен  2.\n",
    "\n",
    "   б) $\\begin{pmatrix}\n",
    "0 & 0 & 2 & 1\\\\ \n",
    "0 & 0 & 2 & 2\\\\ \n",
    "0 & 0 & 4 & 3\\\\ \n",
    "2 & 3 & 5 & 6\n",
    "\\end{pmatrix}.$\n",
    "\n",
    "Третья строка является суммой первой и второй строк, а значит, ее можно отбросить\n",
    "$\\begin{pmatrix}\n",
    "0 & 0 & 2 & 1\\\\ \n",
    "0 & 0 & 2 & 2\\\\  \n",
    "2 & 3 & 5 & 6\n",
    "\\end{pmatrix}.$\n",
    "\n",
    "Вычтем из второй строки первую, и переместим 1 строку наверх:\n",
    "$\\begin{pmatrix}\n",
    "2 & 3 & 5 & 6\\\\ \n",
    "0 & 0 & 2 & 1\\\\  \n",
    "0 & 0 & 0 & 1\n",
    "\\end{pmatrix}.$\n",
    "\n",
    "Таким образом, ранг матрицы равен  3."
   ]
  },
  {
   "cell_type": "code",
   "execution_count": 113,
   "id": "8a8182f7",
   "metadata": {
    "scrolled": true
   },
   "outputs": [
    {
     "name": "stdout",
     "output_type": "stream",
     "text": [
      "Матрица:\n",
      "[[1 2 3]\n",
      " [1 1 1]\n",
      " [2 3 4]]\n",
      "Ранг матрицы:\n",
      "2\n"
     ]
    }
   ],
   "source": [
    "a = np.array([[1, 2, 3], [1, 1, 1], [2, 3, 4]])\n",
    "print(f'Матрица:\\n{a}')\n",
    "print(f'Ранг матрицы:\\n{np.linalg.matrix_rank(a)}')"
   ]
  },
  {
   "cell_type": "code",
   "execution_count": 114,
   "id": "91ad126d",
   "metadata": {
    "scrolled": true
   },
   "outputs": [
    {
     "name": "stdout",
     "output_type": "stream",
     "text": [
      "Матрица:\n",
      "[[0 0 2 1]\n",
      " [0 0 2 2]\n",
      " [0 0 4 3]\n",
      " [2 3 5 6]]\n",
      "Ранг матрицы:\n",
      "3\n"
     ]
    }
   ],
   "source": [
    "a = np.array([[0, 0, 2, 1], [0, 0, 2, 2], [0, 0, 4, 3], [2, 3, 5, 6]])\n",
    "print(f'Матрица:\\n{a}')\n",
    "print(f'Ранг матрицы:\\n{np.linalg.matrix_rank(a)}')"
   ]
  }
 ],
 "metadata": {
  "kernelspec": {
   "display_name": "Python 3 (ipykernel)",
   "language": "python",
   "name": "python3"
  },
  "language_info": {
   "codemirror_mode": {
    "name": "ipython",
    "version": 3
   },
   "file_extension": ".py",
   "mimetype": "text/x-python",
   "name": "python",
   "nbconvert_exporter": "python",
   "pygments_lexer": "ipython3",
   "version": "3.9.7"
  }
 },
 "nbformat": 4,
 "nbformat_minor": 5
}
